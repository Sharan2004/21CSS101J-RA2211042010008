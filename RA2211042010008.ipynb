{
  "nbformat": 4,
  "nbformat_minor": 0,
  "metadata": {
    "colab": {
      "provenance": [],
      "authorship_tag": "ABX9TyONJQnoG1r2vQZGD/o4K32a",
      "include_colab_link": true
    },
    "kernelspec": {
      "name": "python3",
      "display_name": "Python 3"
    },
    "language_info": {
      "name": "python"
    }
  },
  "cells": [
    {
      "cell_type": "markdown",
      "metadata": {
        "id": "view-in-github",
        "colab_type": "text"
      },
      "source": [
        "<a href=\"https://colab.research.google.com/github/Sharan2004/21CSS101J-RA2211042010008COLAB/blob/main/RA2211042010008.ipynb\" target=\"_parent\"><img src=\"https://colab.research.google.com/assets/colab-badge.svg\" alt=\"Open In Colab\"/></a>"
      ]
    },
    {
      "cell_type": "markdown",
      "source": [
        "addition"
      ],
      "metadata": {
        "id": "S_RTZsczOe40"
      }
    },
    {
      "cell_type": "code",
      "execution_count": 16,
      "metadata": {
        "colab": {
          "base_uri": "https://localhost:8080/"
        },
        "id": "BQOWk1lwLArR",
        "outputId": "6f4728ce-df15-43cd-b0fc-07f88477d840"
      },
      "outputs": [
        {
          "output_type": "stream",
          "name": "stdout",
          "text": [
            "2000\n"
          ]
        }
      ],
      "source": [
        "num1=1000\n",
        "num2=1000\n",
        "print(num1+num2)\n"
      ]
    },
    {
      "cell_type": "markdown",
      "source": [
        "subtraction"
      ],
      "metadata": {
        "id": "b4qb4iUFOcAg"
      }
    },
    {
      "cell_type": "code",
      "source": [
        "num1=1000\n",
        "num2=500\n",
        "print(num1-num2)"
      ],
      "metadata": {
        "colab": {
          "base_uri": "https://localhost:8080/"
        },
        "id": "XSx6_OaAMLtm",
        "outputId": "ede418e0-9a3e-4e92-f1ba-588f8b267905"
      },
      "execution_count": 14,
      "outputs": [
        {
          "output_type": "stream",
          "name": "stdout",
          "text": [
            "500\n"
          ]
        }
      ]
    },
    {
      "cell_type": "code",
      "source": [
        "a = str(input(\"favourite bike: \"))\n",
        "print(a)\n"
      ],
      "metadata": {
        "colab": {
          "base_uri": "https://localhost:8080/"
        },
        "id": "ldsOfn4ePHCN",
        "outputId": "a121e26a-313e-426e-ea36-743e8c8edcfe"
      },
      "execution_count": 18,
      "outputs": [
        {
          "output_type": "stream",
          "name": "stdout",
          "text": [
            "favourite bike: R15V4\n",
            "R15V4\n"
          ]
        }
      ]
    },
    {
      "cell_type": "markdown",
      "source": [
        "multipilication"
      ],
      "metadata": {
        "id": "L36DnfOSOZPe"
      }
    },
    {
      "cell_type": "code",
      "source": [
        "num1=1000\n",
        "num2=1000\n",
        "print (num1*num2)"
      ],
      "metadata": {
        "colab": {
          "base_uri": "https://localhost:8080/"
        },
        "id": "l8HQ9gbEMky_",
        "outputId": "c547f507-24d9-441f-cf33-d51a41d8262c"
      },
      "execution_count": 19,
      "outputs": [
        {
          "output_type": "execute_result",
          "data": {
            "text/plain": [
              "1000000"
            ]
          },
          "metadata": {},
          "execution_count": 19
        }
      ]
    },
    {
      "cell_type": "markdown",
      "source": [
        "division"
      ],
      "metadata": {
        "id": "PSoVKWNoOWFL"
      }
    },
    {
      "cell_type": "code",
      "source": [
        "num1=1000\n",
        "num2=20\n",
        "num1/num2"
      ],
      "metadata": {
        "colab": {
          "base_uri": "https://localhost:8080/"
        },
        "id": "Zq7IKnU5Mstz",
        "outputId": "87f81a13-59c7-4ba0-bce1-2a557847576b"
      },
      "execution_count": 20,
      "outputs": [
        {
          "output_type": "execute_result",
          "data": {
            "text/plain": [
              "50.0"
            ]
          },
          "metadata": {},
          "execution_count": 20
        }
      ]
    },
    {
      "cell_type": "code",
      "source": [
        "a = int(input(\"enter a num1: \"))\n",
        "b = int(input(\"enter a num2: \"))\n",
        "sum = a + b \n",
        "print(\"sum\",sum)"
      ],
      "metadata": {
        "colab": {
          "base_uri": "https://localhost:8080/"
        },
        "id": "y29Sc9AUSZSU",
        "outputId": "1770252b-4d49-407b-8682-d17e761dce11"
      },
      "execution_count": 22,
      "outputs": [
        {
          "output_type": "stream",
          "name": "stdout",
          "text": [
            "enter a num1: 15\n",
            "enter a num2: 15\n",
            "sum 30\n"
          ]
        }
      ]
    },
    {
      "cell_type": "code",
      "source": [
        "a = int(input(\"enter a num1: \"))\n",
        "b = int(input(\"enter a num2 : \"))\n",
        "diff = a - b\n",
        "print(\"diff\",diff)"
      ],
      "metadata": {
        "colab": {
          "base_uri": "https://localhost:8080/"
        },
        "id": "e6eJBqXcTeYp",
        "outputId": "a8a3567b-160a-4878-c741-ac9f2c5770e9"
      },
      "execution_count": 24,
      "outputs": [
        {
          "output_type": "stream",
          "name": "stdout",
          "text": [
            "enter a num1: 30\n",
            "enter a num2 : 15\n",
            "diff 15\n"
          ]
        }
      ]
    },
    {
      "cell_type": "code",
      "source": [
        "a = int(input(\"enter a num1: \"))\n",
        "b = int(input(\"enter a num2: \"))\n",
        "pro = a*b\n",
        "print(\"pro\",pro)\n"
      ],
      "metadata": {
        "colab": {
          "base_uri": "https://localhost:8080/"
        },
        "id": "KwxdslnaUkTY",
        "outputId": "fe625519-2e6a-4a78-fe32-2fe99d5ef6d8"
      },
      "execution_count": 25,
      "outputs": [
        {
          "output_type": "stream",
          "name": "stdout",
          "text": [
            "enter a num1: 25\n",
            "enter a num2: 25\n",
            "pro 625\n"
          ]
        }
      ]
    },
    {
      "cell_type": "code",
      "source": [
        "a = int(input(\"enter sub1 marks: \"))\n",
        "b = int(input(\"enter sub2 marks: \"))\n",
        "c = int(input(\"enter sub3 marks: \"))\n",
        "average=a+b+c/3\n",
        "print(average)"
      ],
      "metadata": {
        "colab": {
          "base_uri": "https://localhost:8080/"
        },
        "id": "W8DkS7CLVX0g",
        "outputId": "09079103-33b4-4577-c10e-0b8f79e8415a"
      },
      "execution_count": 28,
      "outputs": [
        {
          "output_type": "stream",
          "name": "stdout",
          "text": [
            "enter sub1 marks: 70\n",
            "enter sub2 marks: 70\n",
            "enter sub3 marks: 70\n",
            "163.33333333333334\n"
          ]
        }
      ]
    },
    {
      "cell_type": "code",
      "source": [],
      "metadata": {
        "id": "wHfS45BPY-N6"
      },
      "execution_count": null,
      "outputs": []
    },
    {
      "cell_type": "code",
      "source": [
        "a = int(input(\"enter a num: \"))\n",
        "if (a/2=0):\n",
        " print(\"even\")\n",
        " else:\n",
        "   print(\"odd\")"
      ],
      "metadata": {
        "colab": {
          "base_uri": "https://localhost:8080/",
          "height": 131
        },
        "id": "dsPlX2hWX4CA",
        "outputId": "8fca7941-dab8-4d92-aebc-f823308c202c"
      },
      "execution_count": 30,
      "outputs": [
        {
          "output_type": "error",
          "ename": "SyntaxError",
          "evalue": "ignored",
          "traceback": [
            "\u001b[0;36m  File \u001b[0;32m\"<ipython-input-30-1dee720618fa>\"\u001b[0;36m, line \u001b[0;32m2\u001b[0m\n\u001b[0;31m    if (a/2=0):\u001b[0m\n\u001b[0m           ^\u001b[0m\n\u001b[0;31mSyntaxError\u001b[0m\u001b[0;31m:\u001b[0m invalid syntax\n"
          ]
        }
      ]
    },
    {
      "cell_type": "markdown",
      "source": [
        "printing integer"
      ],
      "metadata": {
        "id": "iJr-ujR8PBJV"
      }
    },
    {
      "cell_type": "code",
      "source": [
        "a = 15\n",
        "print(a)"
      ],
      "metadata": {
        "colab": {
          "base_uri": "https://localhost:8080/"
        },
        "id": "zCWMcX63MynT",
        "outputId": "12d059d4-9076-475f-8072-8ed80970894e"
      },
      "execution_count": 11,
      "outputs": [
        {
          "output_type": "stream",
          "name": "stdout",
          "text": [
            "15\n"
          ]
        }
      ]
    }
  ]
}